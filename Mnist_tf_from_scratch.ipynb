{
  "nbformat": 4,
  "nbformat_minor": 0,
  "metadata": {
    "colab": {
      "provenance": [],
      "mount_file_id": "1OIYAsgabS0BjtaZ9C7kq8zTYuG6_IYYm",
      "authorship_tag": "ABX9TyN17FlVKK314IQfUOakS+AW",
      "include_colab_link": true
    },
    "kernelspec": {
      "name": "python3",
      "display_name": "Python 3"
    },
    "language_info": {
      "name": "python"
    }
  },
  "cells": [
    {
      "cell_type": "markdown",
      "metadata": {
        "id": "view-in-github",
        "colab_type": "text"
      },
      "source": [
        "<a href=\"https://colab.research.google.com/github/NickyGuants/mnist_from_scratch/blob/main/Mnist_tf_from_scratch.ipynb\" target=\"_parent\"><img src=\"https://colab.research.google.com/assets/colab-badge.svg\" alt=\"Open In Colab\"/></a>"
      ]
    },
    {
      "cell_type": "code",
      "source": [
        "import tensorflow as tf\n",
        "import matplotlib.pyplot as plt\n",
        "import numpy as np"
      ],
      "metadata": {
        "id": "oGrKk1-119mC"
      },
      "execution_count": 46,
      "outputs": []
    },
    {
      "cell_type": "code",
      "execution_count": 47,
      "metadata": {
        "id": "GvFIN_6GyDfv"
      },
      "outputs": [],
      "source": [
        "from tensorflow.keras.datasets import mnist"
      ]
    },
    {
      "cell_type": "markdown",
      "source": [
        "Load and inspect the data"
      ],
      "metadata": {
        "id": "CIJIKRs02MzG"
      }
    },
    {
      "cell_type": "code",
      "source": [
        "(train_images, train_labels), (test_images, test_labels) = mnist.load_data()"
      ],
      "metadata": {
        "id": "NwNsvXEX0rYo"
      },
      "execution_count": 48,
      "outputs": []
    },
    {
      "cell_type": "code",
      "source": [
        "train_images.shape"
      ],
      "metadata": {
        "colab": {
          "base_uri": "https://localhost:8080/"
        },
        "id": "lzuIMlRf06R7",
        "outputId": "aafe24aa-2858-46b0-c857-c8ba5bfbca8e"
      },
      "execution_count": 49,
      "outputs": [
        {
          "output_type": "execute_result",
          "data": {
            "text/plain": [
              "(60000, 28, 28)"
            ]
          },
          "metadata": {},
          "execution_count": 49
        }
      ]
    },
    {
      "cell_type": "code",
      "source": [
        "train_labels.shape"
      ],
      "metadata": {
        "colab": {
          "base_uri": "https://localhost:8080/"
        },
        "id": "iV0WWxFV1ADo",
        "outputId": "adc80792-428d-4383-e757-7e1459a6c8bf"
      },
      "execution_count": 50,
      "outputs": [
        {
          "output_type": "execute_result",
          "data": {
            "text/plain": [
              "(60000,)"
            ]
          },
          "metadata": {},
          "execution_count": 50
        }
      ]
    },
    {
      "cell_type": "code",
      "source": [
        "train_labels"
      ],
      "metadata": {
        "colab": {
          "base_uri": "https://localhost:8080/"
        },
        "id": "QN7Qqfqu1GoA",
        "outputId": "e277795d-14f8-4945-8115-95161726254d"
      },
      "execution_count": 51,
      "outputs": [
        {
          "output_type": "execute_result",
          "data": {
            "text/plain": [
              "array([5, 0, 4, ..., 5, 6, 8], dtype=uint8)"
            ]
          },
          "metadata": {},
          "execution_count": 51
        }
      ]
    },
    {
      "cell_type": "code",
      "source": [
        "test_images.shape"
      ],
      "metadata": {
        "colab": {
          "base_uri": "https://localhost:8080/"
        },
        "id": "0CBNQdpA1K2G",
        "outputId": "9e03c9ba-a7ff-42c7-fa37-c5b179da26ac"
      },
      "execution_count": 52,
      "outputs": [
        {
          "output_type": "execute_result",
          "data": {
            "text/plain": [
              "(10000, 28, 28)"
            ]
          },
          "metadata": {},
          "execution_count": 52
        }
      ]
    },
    {
      "cell_type": "code",
      "source": [
        "test_labels"
      ],
      "metadata": {
        "colab": {
          "base_uri": "https://localhost:8080/"
        },
        "id": "brrsS8Zt2FGf",
        "outputId": "b1078de1-781f-46a1-bc99-603f5625a8ef"
      },
      "execution_count": 53,
      "outputs": [
        {
          "output_type": "execute_result",
          "data": {
            "text/plain": [
              "array([7, 2, 1, ..., 4, 5, 6], dtype=uint8)"
            ]
          },
          "metadata": {},
          "execution_count": 53
        }
      ]
    },
    {
      "cell_type": "code",
      "source": [
        "fig = plt.figure(constrained_layout=True)\n",
        "ax = fig.subplots(3,3, squeeze=False)\n",
        "for i in range(1,9+1):\n",
        "  idx = i-1\n",
        "  digit = train_images[idx]\n",
        "  fig.add_subplot(3, 3, i)\n",
        "  plt.imshow(digit, cmap=plt.cm.binary)\n",
        "plt.show()"
      ],
      "metadata": {
        "colab": {
          "base_uri": "https://localhost:8080/",
          "height": 508
        },
        "id": "gZRCjaLF3vv8",
        "outputId": "e57fe349-c2b8-4b5e-a1a1-5dd3bb03b5d6"
      },
      "execution_count": 54,
      "outputs": [
        {
          "output_type": "display_data",
          "data": {
            "text/plain": [
              "<Figure size 640x480 with 18 Axes>"
            ],
            "image/png": "[encoded data removed]"
          },
          "metadata": {}
        }
      ]
    },
    {
      "cell_type": "markdown",
      "source": [
        "Creating the Model"
      ],
      "metadata": {
        "id": "9M0bxsa962KY"
      }
    },
    {
      "cell_type": "code",
      "source": [
        "# A single layer in the network\n",
        "class Dense:\n",
        "  def __init__(self, input_size, output_size, activation):\n",
        "    self.activation = activation\n",
        "\n",
        "    #Weight matrix, W of shape (input_size, output_size) with random inital values\n",
        "    w_shape = (input_size, output_size)\n",
        "    w_initial_value = tf.random.uniform(w_shape, minval=0, maxval=1e-1)\n",
        "    self.W = tf.Variable(w_initial_value)\n",
        "\n",
        "    #Bias Vector, b of shape (output_size,) with zero inital values\n",
        "    b_shape = (output_size,)\n",
        "    b_inital_value = tf.zeros(b_shape)\n",
        "    self.b = tf.Variable(b_inital_value)\n",
        "\n",
        "  # Forwad pass where out = activation(dot(W, input)+b)\n",
        "  def __call__(self, inputs):\n",
        "    return self.activation(tf.matmul(inputs, self.W) + self.b)\n",
        "\n",
        "  @property\n",
        "  def weights(self):\n",
        "    return [self.W, self.b]\n"
      ],
      "metadata": {
        "id": "caGpDgl52J0i"
      },
      "execution_count": 55,
      "outputs": []
    },
    {
      "cell_type": "code",
      "source": [
        "#A sequential class to hold multiple layers\n",
        "class Sequential:\n",
        "  def __init__(self, layers):\n",
        "    self.layers = layers\n",
        "\n",
        "  def __call__(self, inputs):\n",
        "    x = inputs\n",
        "    for layer in self.layers:\n",
        "      x = layer(x)\n",
        "    return x\n",
        "\n",
        "  @property\n",
        "  def weights(self):\n",
        "    weights = []\n",
        "    for layer in self.layers:\n",
        "      weights += layer.weights\n",
        "    return weights"
      ],
      "metadata": {
        "id": "Y11IrPgX9erz"
      },
      "execution_count": 56,
      "outputs": []
    },
    {
      "cell_type": "code",
      "source": [
        "#Create batches of data\n",
        "import math\n",
        "\n",
        "class BatchGenerator:\n",
        "  def __init__(self, images, labels, batch_size=128):\n",
        "    self.index = 0\n",
        "    self.images = images\n",
        "    self.labels = labels\n",
        "    self.batch_size = batch_size\n",
        "    self.num_batches = math.ceil(len(images) / batch_size)\n",
        "\n",
        "  def next(self):\n",
        "    images = self.images[self.index:self.index + self.batch_size]\n",
        "    labels = self.labels[self.index:self.index + self.batch_size]\n",
        "    self.index+=self.batch_size\n",
        "    return images, labels"
      ],
      "metadata": {
        "id": "7qxCgYvp-w16"
      },
      "execution_count": 57,
      "outputs": []
    },
    {
      "cell_type": "code",
      "source": [
        "def train_one_loop(model, images_batch, labels_batch):\n",
        "  with tf.GradientTape() as tape:\n",
        "    preds = model(images_batch)\n",
        "    per_sample_loss = tf.keras.losses.sparse_categorical_crossentropy(labels_batch, preds)\n",
        "    average_loss = tf.reduce_mean(per_sample_loss)\n",
        "  grads = tape.gradient(average_loss, model.weights)\n",
        "  update_weights(grads, model.weights)\n",
        "  return average_loss"
      ],
      "metadata": {
        "id": "munxHekgBC_d"
      },
      "execution_count": 58,
      "outputs": []
    },
    {
      "cell_type": "code",
      "source": [
        "# Weights update with no optmizer\n",
        "learning_rate = 1e-3\n",
        "def update_weights(gradients, weights):\n",
        "  for g, w in zip(gradients,weights):\n",
        "    w.assign_sub(g * learning_rate)\n",
        "\n",
        "#Weights update with Optmizers\n",
        "from tensorflow.keras import optimizers\n",
        "optimizer = optimizers.SGD(learning_rate)\n",
        "def update_weights_optm(grads, weights):\n",
        "  optimizer.apply_gradients(zip(grads, weights))"
      ],
      "metadata": {
        "id": "Z3Y1ucKfCYu5"
      },
      "execution_count": 59,
      "outputs": []
    },
    {
      "cell_type": "code",
      "source": [
        "#Full training loop\n",
        "def fit(model, images, labels, epochs, batch_size=128):\n",
        "  for epoch_counter in range(epochs):\n",
        "    print(f\"Epoch {epoch_counter}\")\n",
        "    batch = BatchGenerator(images, labels)\n",
        "    for batch_counter in range(batch.num_batches):\n",
        "      images_batch, labels_batch = batch.next()\n",
        "      loss = train_one_loop(model, images_batch, labels_batch)\n",
        "      if batch_counter % 100 == 0:\n",
        "        print(f\"Loss at batch {batch_counter}: {loss: .2f}\")"
      ],
      "metadata": {
        "id": "vVfTqE-wFfQ2"
      },
      "execution_count": 60,
      "outputs": []
    },
    {
      "cell_type": "code",
      "source": [
        "model = Sequential([\n",
        "    Dense(input_size=28*28, output_size=512, activation=tf.nn.relu),\n",
        "    Dense(input_size=512, output_size=10, activation=tf.nn.softmax)\n",
        "])"
      ],
      "metadata": {
        "id": "H4IO12IUC6lh"
      },
      "execution_count": 61,
      "outputs": []
    },
    {
      "cell_type": "code",
      "source": [
        "len(model.weights)"
      ],
      "metadata": {
        "colab": {
          "base_uri": "https://localhost:8080/"
        },
        "id": "HVEx08P_EirV",
        "outputId": "2b5db44b-fa88-4f88-840b-c634f1ab5bc2"
      },
      "execution_count": 62,
      "outputs": [
        {
          "output_type": "execute_result",
          "data": {
            "text/plain": [
              "4"
            ]
          },
          "metadata": {},
          "execution_count": 62
        }
      ]
    },
    {
      "cell_type": "code",
      "source": [
        "train_images = train_images.reshape((60000, 28*28))\n",
        "train_images = train_images.astype(\"float32\") / 255\n",
        "test_images = test_images.reshape((10000, 28*28))\n",
        "test_images = test_images.astype(\"float32\") / 255"
      ],
      "metadata": {
        "id": "30HtD4e8FYeN"
      },
      "execution_count": 63,
      "outputs": []
    },
    {
      "cell_type": "code",
      "source": [
        "fit(model, train_images, train_labels, epochs=10, batch_size=128)"
      ],
      "metadata": {
        "colab": {
          "base_uri": "https://localhost:8080/"
        },
        "id": "a719_0pBHiXH",
        "outputId": "06efcda0-1284-4b7a-d7b4-dff6d5a3df38"
      },
      "execution_count": 64,
      "outputs": [
        {
          "output_type": "stream",
          "name": "stdout",
          "text": [
            "Epoch 0\n",
            "Loss at batch 0:  5.55\n",
            "Loss at batch 100:  2.23\n",
            "Loss at batch 200:  2.19\n",
            "Loss at batch 300:  2.08\n",
            "Loss at batch 400:  2.22\n",
            "Epoch 1\n",
            "Loss at batch 0:  1.89\n",
            "Loss at batch 100:  1.86\n",
            "Loss at batch 200:  1.81\n",
            "Loss at batch 300:  1.69\n",
            "Loss at batch 400:  1.82\n",
            "Epoch 2\n",
            "Loss at batch 0:  1.56\n",
            "Loss at batch 100:  1.55\n",
            "Loss at batch 200:  1.49\n",
            "Loss at batch 300:  1.40\n",
            "Loss at batch 400:  1.50\n",
            "Epoch 3\n",
            "Loss at batch 0:  1.30\n",
            "Loss at batch 100:  1.32\n",
            "Loss at batch 200:  1.23\n",
            "Loss at batch 300:  1.19\n",
            "Loss at batch 400:  1.27\n",
            "Epoch 4\n",
            "Loss at batch 0:  1.11\n",
            "Loss at batch 100:  1.14\n",
            "Loss at batch 200:  1.03\n",
            "Loss at batch 300:  1.03\n",
            "Loss at batch 400:  1.11\n",
            "Epoch 5\n",
            "Loss at batch 0:  0.97\n",
            "Loss at batch 100:  1.01\n",
            "Loss at batch 200:  0.90\n",
            "Loss at batch 300:  0.92\n",
            "Loss at batch 400:  0.99\n",
            "Epoch 6\n",
            "Loss at batch 0:  0.86\n",
            "Loss at batch 100:  0.90\n",
            "Loss at batch 200:  0.80\n",
            "Loss at batch 300:  0.83\n",
            "Loss at batch 400:  0.90\n",
            "Epoch 7\n",
            "Loss at batch 0:  0.78\n",
            "Loss at batch 100:  0.82\n",
            "Loss at batch 200:  0.72\n",
            "Loss at batch 300:  0.76\n",
            "Loss at batch 400:  0.83\n",
            "Epoch 8\n",
            "Loss at batch 0:  0.72\n",
            "Loss at batch 100:  0.75\n",
            "Loss at batch 200:  0.66\n",
            "Loss at batch 300:  0.71\n",
            "Loss at batch 400:  0.78\n",
            "Epoch 9\n",
            "Loss at batch 0:  0.67\n",
            "Loss at batch 100:  0.70\n",
            "Loss at batch 200:  0.61\n",
            "Loss at batch 300:  0.66\n",
            "Loss at batch 400:  0.74\n"
          ]
        }
      ]
    },
    {
      "cell_type": "code",
      "source": [
        "predictions = model(test_images)\n",
        "predictions = predictions.numpy()\n",
        "predicted_labels = np.argmax(predictions, axis=1)\n",
        "matches = predicted_labels == test_labels\n",
        "print(f\"Accuracy: {matches.mean() : .2f}\")"
      ],
      "metadata": {
        "colab": {
          "base_uri": "https://localhost:8080/"
        },
        "id": "VQjh9wDcJOyF",
        "outputId": "cde7be37-aa17-4791-b282-c63469b383fb"
      },
      "execution_count": 65,
      "outputs": [
        {
          "output_type": "stream",
          "name": "stdout",
          "text": [
            "Accuracy:  0.82\n"
          ]
        }
      ]
    }
  ]
}